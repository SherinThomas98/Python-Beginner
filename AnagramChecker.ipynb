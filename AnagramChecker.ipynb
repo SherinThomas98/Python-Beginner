{
 "cells": [
  {
   "cell_type": "markdown",
   "id": "73c7c7d6-43a6-43cb-a390-2390109e2881",
   "metadata": {},
   "source": [
    "Write a program which:\n",
    "-asks the user for two separate texts;\n",
    "-checks whether, the entered texts are anagrams and prints the result.\n",
    "Note:\n",
    "-assume that two empty strings are not anagrams;\n",
    "-treat upper- and lower-case letters as equal;\n",
    "-spaces are not taken into account during the check - treat them as non-existent\n"
   ]
  },
  {
   "cell_type": "code",
   "execution_count": 9,
   "id": "30b2a920-518a-4f3b-8e2d-3554b9ad1a2c",
   "metadata": {},
   "outputs": [
    {
     "name": "stdin",
     "output_type": "stream",
     "text": [
      "Enter first text to be checked:  Silent\n"
     ]
    },
    {
     "name": "stdout",
     "output_type": "stream",
     "text": [
      "['S', 'I', 'L', 'E', 'N', 'T']\n"
     ]
    },
    {
     "name": "stdin",
     "output_type": "stream",
     "text": [
      "Enter 2nd text to be checked:  Listens\n"
     ]
    },
    {
     "name": "stdout",
     "output_type": "stream",
     "text": [
      "['L', 'I', 'S', 'T', 'E', 'N', 'S']\n",
      "Silent and Listens are not anagrams!\n"
     ]
    }
   ],
   "source": [
    "text1=input(\"Enter first text to be checked: \")\n",
    "list_text1=list(text1.upper().replace(\" \",\"\"))\n",
    "#print(list_text1)\n",
    "text2=input(\"Enter 2nd text to be checked: \")\n",
    "list_text2=list(text2.upper().replace(\" \",\"\"))\n",
    "#print(list_text2)\n",
    "anagram= \"anagrams!\"\n",
    "for char in list_text2:\n",
    "    if char in list_text1:\n",
    "        list_text1.remove(char)\n",
    "    else:\n",
    "        anagram=\"not anagrams!\"\n",
    "        break\n",
    "print(text1, \"and\", text2, \"are\", anagram)\n",
    "        "
   ]
  }
 ],
 "metadata": {
  "kernelspec": {
   "display_name": "Python 3 (ipykernel)",
   "language": "python",
   "name": "python3"
  },
  "language_info": {
   "codemirror_mode": {
    "name": "ipython",
    "version": 3
   },
   "file_extension": ".py",
   "mimetype": "text/x-python",
   "name": "python",
   "nbconvert_exporter": "python",
   "pygments_lexer": "ipython3",
   "version": "3.13.2"
  }
 },
 "nbformat": 4,
 "nbformat_minor": 5
}
