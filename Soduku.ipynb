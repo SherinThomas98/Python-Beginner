{
 "cells": [
  {
   "cell_type": "raw",
   "id": "bd82aaad-1f40-4315-a2d9-509d2e0aaf1a",
   "metadata": {},
   "source": [
    "Sudoku is a number-placing puzzle played on a 9x9 board. The player has to fill the board in a very specific way:\n",
    "-each row of the board must contain all digits from 0 to 9 (the order doesn't matter)\n",
    "-each column of the board must contain all digits from 0 to 9 (again, the order doesn't matter)\n",
    "-each of the nine 3x3 \"tiles\" (we will name them \"sub-squares\") of the table must contain all digits from 0 to 9.\n",
    "Write a program which:\n",
    "-reads 9 rows of the Sudoku, each containing 9 digits (check carefully if the data entered are valid)\n",
    "-outputs Yes if the Sudoku is valid, and No otherwise.\n",
    "\n",
    "Sample input:\n",
    "295743861\n",
    "431865927\n",
    "876192543\n",
    "387459216\n",
    "612387495\n",
    "549216738\n",
    "763524189\n",
    "928671354\n",
    "154938672\n",
    "Sample output:\n",
    "Yes\n",
    "\n",
    "Sample input:\n",
    "195743862\n",
    "431865927\n",
    "876192543\n",
    "387459216\n",
    "612387495\n",
    "549216738\n",
    "763524189\n",
    "928671354\n",
    "254938671\n",
    "Sample output:\n",
    "No"
   ]
  },
  {
   "cell_type": "code",
   "execution_count": 20,
   "id": "43c3ba54-75fb-4bcf-bf6a-5609cf869e44",
   "metadata": {},
   "outputs": [
    {
     "name": "stdout",
     "output_type": "stream",
     "text": [
      "Enter 9 rows of Soduku\n"
     ]
    },
    {
     "name": "stdin",
     "output_type": "stream",
     "text": [
      "Enter values for Soduku row no.1:  195743862\n",
      "Enter values for Soduku row no.2:  431865927\n",
      "Enter values for Soduku row no.3:  876192543\n",
      "Enter values for Soduku row no.4:  387459216\n",
      "Enter values for Soduku row no.5:  612387495\n",
      "Enter values for Soduku row no.6:  549216738\n",
      "Enter values for Soduku row no.7:  763524189\n",
      "Enter values for Soduku row no.8:  928671354\n",
      "Enter values for Soduku row no.9:  254938671\n"
     ]
    },
    {
     "name": "stdout",
     "output_type": "stream",
     "text": [
      "['1', '9', '5', '7', '4', '3', '8', '6', '2']\n",
      "['1', '4', '8', '3', '6', '5', '7', '9', '2']\n",
      "['4', '3', '1', '8', '6', '5', '9', '2', '7']\n",
      "['9', '3', '7', '8', '1', '4', '6', '2', '5']\n",
      "['8', '7', '6', '1', '9', '2', '5', '4', '3']\n",
      "['5', '1', '6', '7', '2', '9', '3', '8', '4']\n",
      "['3', '8', '7', '4', '5', '9', '2', '1', '6']\n",
      "['7', '8', '1', '4', '3', '2', '5', '6', '9']\n",
      "['6', '1', '2', '3', '8', '7', '4', '9', '5']\n",
      "['4', '6', '9', '5', '8', '1', '2', '7', '3']\n",
      "['5', '4', '9', '2', '1', '6', '7', '3', '8']\n",
      "['3', '5', '2', '9', '7', '6', '4', '1', '8']\n",
      "['7', '6', '3', '5', '2', '4', '1', '8', '9']\n",
      "['8', '9', '5', '2', '4', '7', '1', '3', '6']\n",
      "['9', '2', '8', '6', '7', '1', '3', '5', '4']\n",
      "['6', '2', '4', '1', '9', '3', '8', '5', '7']\n",
      "['2', '5', '4', '9', '3', '8', '6', '7', '1']\n",
      "['2', '7', '3', '6', '5', '8', '9', '4', '1']\n",
      "['1', '9', '5', '4', '3', '1', '8', '7', '6']\n",
      "['3', '8', '7', '6', '1', '2', '5', '4', '9']\n",
      "['4', '5', '9', '3', '8', '7', '2', '1', '6']\n",
      "['2', '1', '6', '4', '9', '5', '7', '3', '8']\n",
      "['7', '6', '3', '9', '2', '8', '2', '5', '4']\n",
      "No\n"
     ]
    }
   ],
   "source": [
    "def check_set(digits):\n",
    "    sorted_digits=sorted(digits)\n",
    "    if sorted_digits==list(\"123456789\"):\n",
    "        result=True\n",
    "    else:\n",
    "        result=False\n",
    "    return result\n",
    "\n",
    "\n",
    "matrix= []\n",
    "print(\"Enter 9 rows of Soduku\")\n",
    "for i in range(9):\n",
    "    row = list(input(\"Enter values for Soduku row no.\"+str(i+1)+\": \").strip())\n",
    "    matrix.append(row)\n",
    "Soduku=\"Yes\"\n",
    "\n",
    "for i in range(9):\n",
    "#Checking rows:\n",
    "    row=list(matrix[i])\n",
    "    print(row)\n",
    "    rows_ok=check_set(row)\n",
    "    if not rows_ok:\n",
    "        Soduku=\"No\"\n",
    "        break\n",
    "#colmn check:\n",
    "    col=[]\n",
    "    for j in range(9):\n",
    "        col.append(matrix[j][i])\n",
    "    print(col)\n",
    "    cols_ok=check_set(col)\n",
    "    if not cols_ok:\n",
    "        Soduku=\"No\"\n",
    "        break\n",
    "    \n",
    "    \n",
    "#checking the 9 3X3 tiles\n",
    "if Soduku==\"Yes\":    \n",
    "    for i in range(0, 9, 3):\n",
    "        for j in range(0, 9, 3):\n",
    "            tile = [matrix[x][y] for x in range(i, i + 3) for y in range(j, j + 3)]\n",
    "            #print(tile)\n",
    "            tiles_ok=check_set(tile)\n",
    "            if not tiles_ok:\n",
    "                Soduku=\"No\"\n",
    "                break \n",
    "print(Soduku)\n",
    "        "
   ]
  }
 ],
 "metadata": {
  "kernelspec": {
   "display_name": "Python 3 (ipykernel)",
   "language": "python",
   "name": "python3"
  },
  "language_info": {
   "codemirror_mode": {
    "name": "ipython",
    "version": 3
   },
   "file_extension": ".py",
   "mimetype": "text/x-python",
   "name": "python",
   "nbconvert_exporter": "python",
   "pygments_lexer": "ipython3",
   "version": "3.13.2"
  }
 },
 "nbformat": 4,
 "nbformat_minor": 5
}
