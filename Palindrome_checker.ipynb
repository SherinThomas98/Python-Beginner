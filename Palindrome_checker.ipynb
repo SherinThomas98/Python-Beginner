{
 "cells": [
  {
   "cell_type": "markdown",
   "id": "e2ddf148-2f10-4a67-9134-c22286c382ef",
   "metadata": {},
   "source": [
    "Write a program which:\n",
    "-asks the user for some text;\n",
    "-checks whether the entered text is a palindrome, and prints result.\n",
    "Note:\n",
    "assume that an empty string isn't a palindrome;\n",
    "treat upper- and lower-case letters as equal;\n",
    "spaces are not taken into account during the check - treat them as non-existent;\n",
    "there are more than a few correct solutions - try to find more than one."
   ]
  },
  {
   "cell_type": "code",
   "execution_count": 10,
   "id": "f6335bab-ddeb-4ecf-8470-7badd5855029",
   "metadata": {},
   "outputs": [
    {
     "name": "stdin",
     "output_type": "stream",
     "text": [
      "Enter text to check:  Ten animals I slam in a net\n"
     ]
    },
    {
     "name": "stdout",
     "output_type": "stream",
     "text": [
      "That the text entered is a palindrome is True\n"
     ]
    }
   ],
   "source": [
    "text=input(\"Enter text to check: \")\n",
    "text = text.lower()\n",
    "text=text.replace(\" \",\"\")\n",
    "length=len(text)\n",
    "if length==0:\n",
    "    palindrome=False\n",
    "else:\n",
    "    palindrome=True\n",
    "for i in range(length//2):\n",
    "    if text[i]==' ':\n",
    "        continue\n",
    "    elif text[i] != text[length-i-1]:\n",
    "        palindrome=False\n",
    "        break\n",
    "print(\"That the text entered is a palindrome is\", palindrome)          \n",
    "        "
   ]
  }
 ],
 "metadata": {
  "kernelspec": {
   "display_name": "Python 3 (ipykernel)",
   "language": "python",
   "name": "python3"
  },
  "language_info": {
   "codemirror_mode": {
    "name": "ipython",
    "version": 3
   },
   "file_extension": ".py",
   "mimetype": "text/x-python",
   "name": "python",
   "nbconvert_exporter": "python",
   "pygments_lexer": "ipython3",
   "version": "3.13.2"
  }
 },
 "nbformat": 4,
 "nbformat_minor": 5
}
