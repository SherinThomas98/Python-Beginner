{
 "cells": [
  {
   "cell_type": "markdown",
   "id": "5bcee67d-80ca-46e8-a2af-dab140594343",
   "metadata": {},
   "source": [
    "Write a program which:\n",
    "-asks the user for one line of text to encrypt;\n",
    "-asks the user for a shift value (an integer number from the range 1..25 - note: you should force the user to enter a valid shift value (don't give up and don't let bad data fool you!)\n",
    "-prints out the encoded text.\n",
    "\n",
    "Sample input:\n",
    "abcxyzABCxyz 123\n",
    "2\n",
    "\n",
    "Sample output:\n",
    "cdezabCDEzab 123\n",
    "\n",
    "\n",
    "roughwork:\n",
    "\n",
    "Z=90\n",
    "Y-89\n",
    "X-88\n",
    "W\n",
    "V\n",
    "T-85\n",
    "85+25=110\n",
    "encoded_char=84-> S"
   ]
  },
  {
   "cell_type": "code",
   "execution_count": 7,
   "id": "57af633c-509d-4d83-a586-11251ad77703",
   "metadata": {},
   "outputs": [
    {
     "name": "stdin",
     "output_type": "stream",
     "text": [
      "Enter text to be encrypted:  The Die Is Cast\n",
      "Enter shift value between 1 and 25:  25\n"
     ]
    },
    {
     "name": "stdout",
     "output_type": "stream",
     "text": [
      "Encoded text:  Sgd Chd Hr Bzrs\n"
     ]
    }
   ],
   "source": [
    "def shifter(char, shift_value):\n",
    "    if char.isalpha():\n",
    "        encoded_char= ord(char)+shift_value\n",
    "        if char.isupper() and encoded_char>90:\n",
    "            encoded_char-=26\n",
    "        elif char.islower() and encoded_char>122:\n",
    "            encoded_char-=26\n",
    "        encoded_char= chr(encoded_char)\n",
    "    else:\n",
    "        encoded_char=char\n",
    "    \n",
    "    return encoded_char\n",
    "\n",
    "\n",
    "    \n",
    "while(True):\n",
    "    text= input(\"Enter text to be encrypted: \")\n",
    "    shift= input(\"Enter shift value between 1 and 25: \")\n",
    "    if shift.isdigit():\n",
    "        shift=int(shift)\n",
    "        if shift >=1 and shift <=25:\n",
    "            code=''\n",
    "            for char in text:\n",
    "                new_char= shifter(char, shift)\n",
    "                code+=new_char\n",
    "            print(\"Encoded text: \", code)\n",
    "            break\n",
    "        else:\n",
    "            print(\"Please ensure shift number is between 1 and 25!\")\n",
    "    else:\n",
    "        print(\"Please ensure shift value is a number!\")\n",
    "\n",
    "    "
   ]
  }
 ],
 "metadata": {
  "kernelspec": {
   "display_name": "Python 3 (ipykernel)",
   "language": "python",
   "name": "python3"
  },
  "language_info": {
   "codemirror_mode": {
    "name": "ipython",
    "version": 3
   },
   "file_extension": ".py",
   "mimetype": "text/x-python",
   "name": "python",
   "nbconvert_exporter": "python",
   "pygments_lexer": "ipython3",
   "version": "3.13.2"
  }
 },
 "nbformat": 4,
 "nbformat_minor": 5
}
