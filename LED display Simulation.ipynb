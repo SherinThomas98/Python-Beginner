{
 "cells": [
  {
   "cell_type": "markdown",
   "id": "12b45e07-e229-4135-b126-2762116e7ba4",
   "metadata": {},
   "source": [
    "write a program which is able to simulate the work of a seven-display device, although you're going to use single LEDs instead of segments.\n",
    "\n",
    "Each digit is constructed from 13 LEDs (some lit, some dark, of course) - that's how we imagine it:\n",
    "\n",
    "  # ### ### # # ### ### ### ### ### ### \n",
    "  #   #   # # # #   #     # # # # # # # \n",
    "  # ### ### ### ### ###   # ### ### # # \n",
    "  # #     #   #   # # #   # # #   # # # \n",
    "  # ### ###   # ### ###   # ### ### ###\n",
    "\n",
    "Note: the number 8 shows all the LED lights on.\n",
    "\n",
    "Your code has to display any non-negative integer number entered by the user.\n",
    "\n",
    "Tip: using a list containing patterns of all ten digits may be very helpful"
   ]
  },
  {
   "cell_type": "code",
   "execution_count": 14,
   "id": "442fc39f-010c-4474-aa56-df154e2669f9",
   "metadata": {},
   "outputs": [
    {
     "name": "stdin",
     "output_type": "stream",
     "text": [
      "please enter number:  123\n"
     ]
    },
    {
     "name": "stdout",
     "output_type": "stream",
     "text": [
      "  #\n",
      "  #\n",
      "  #\n",
      "  #\n",
      "  #\n",
      "\n",
      "###\n",
      "  #\n",
      "###\n",
      "#  \n",
      "###\n",
      "\n",
      "###\n",
      "  #\n",
      "###\n",
      "  #\n",
      "###\n",
      "\n"
     ]
    }
   ],
   "source": [
    "digit_dict={\n",
    "    0: [\"###\", \"# #\", \"# #\", \"# #\", \"###\"],\n",
    "    1: [\"  #\", \"  #\", \"  #\", \"  #\", \"  #\"],\n",
    "    2: [\"###\", \"  #\", \"###\", \"#  \", \"###\"],\n",
    "    3: [\"###\", \"  #\", \"###\", \"  #\", \"###\"],\n",
    "    4: [\"# #\", \"# #\", \"###\", \"  #\", \"  #\"],\n",
    "    5: [\"###\", \"#  \", \"###\", \"  #\", \"###\"],\n",
    "    6: [\"###\", \"#  \", \"###\", \"# #\", \"###\"],\n",
    "    7: [\"###\", \"  #\", \"  #\", \"  #\", \"  #\"],\n",
    "    8: [\"###\", \"# #\", \"###\", \"# #\", \"###\"],\n",
    "    9: [\"###\", \"# #\", \"###\", \"  #\", \"###\"],\n",
    "}\n",
    "number = input(\"please enter number: \")\n",
    "if number.isdigit():\n",
    "    for n in number:\n",
    "        digit= int(n)\n",
    "        row = [\"\"] *5\n",
    "        for i in range(5):\n",
    "            row = digit_dict[digit][i] \n",
    "            print(row)\n",
    "        print()\n",
    "else:\n",
    "    print(\"Enter digits!\")\n",
    "    \n",
    "        "
   ]
  },
  {
   "cell_type": "code",
   "execution_count": 25,
   "id": "9918e1a9-1d65-42f6-8200-afe23a19563b",
   "metadata": {},
   "outputs": [
    {
     "name": "stdin",
     "output_type": "stream",
     "text": [
      "please enter number:  456\n"
     ]
    },
    {
     "name": "stdout",
     "output_type": "stream",
     "text": [
      "# # ### ### \n",
      "# # #   #   \n",
      "### ### ### \n",
      "  #   # # # \n",
      "  # ### ### \n"
     ]
    }
   ],
   "source": [
    "digit_dict={\n",
    "    0: [\"###\", \"# #\", \"# #\", \"# #\", \"###\"],\n",
    "    1: [\"  #\", \"  #\", \"  #\", \"  #\", \"  #\"],\n",
    "    2: [\"###\", \"  #\", \"###\", \"#  \", \"###\"],\n",
    "    3: [\"###\", \"  #\", \"###\", \"  #\", \"###\"],\n",
    "    4: [\"# #\", \"# #\", \"###\", \"  #\", \"  #\"],\n",
    "    5: [\"###\", \"#  \", \"###\", \"  #\", \"###\"],\n",
    "    6: [\"###\", \"#  \", \"###\", \"# #\", \"###\"],\n",
    "    7: [\"###\", \"  #\", \"  #\", \"  #\", \"  #\"],\n",
    "    8: [\"###\", \"# #\", \"###\", \"# #\", \"###\"],\n",
    "    9: [\"###\", \"# #\", \"###\", \"  #\", \"###\"],\n",
    "}\n",
    "number = input(\"please enter number: \")\n",
    "if number.isdigit():\n",
    "    for i in range(5):\n",
    "        for n in number:\n",
    "            digit= int(n)\n",
    "            row = digit_dict[digit][i] \n",
    "            print(row, end=' ')\n",
    "        print()\n",
    "else:\n",
    "    print(\"Enter digits!\")\n"
   ]
  },
  {
   "cell_type": "code",
   "execution_count": null,
   "id": "9f1b2f0c-92f1-47c8-be90-3466d35993df",
   "metadata": {},
   "outputs": [],
   "source": []
  }
 ],
 "metadata": {
  "kernelspec": {
   "display_name": "Python 3 (ipykernel)",
   "language": "python",
   "name": "python3"
  },
  "language_info": {
   "codemirror_mode": {
    "name": "ipython",
    "version": 3
   },
   "file_extension": ".py",
   "mimetype": "text/x-python",
   "name": "python",
   "nbconvert_exporter": "python",
   "pygments_lexer": "ipython3",
   "version": "3.13.2"
  }
 },
 "nbformat": 4,
 "nbformat_minor": 5
}
