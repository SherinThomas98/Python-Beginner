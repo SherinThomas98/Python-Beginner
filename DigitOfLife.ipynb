{
 "cells": [
  {
   "cell_type": "markdown",
   "id": "5ca806c2-3022-4f3c-bb52-eede69f267bd",
   "metadata": {},
   "source": [
    "Digit of Life is a digit evaluated using somebody's birthday. It's simple - sum all the digits of the birthdate. If the result contains more than one digit, you have to repeat the addition until you get exactly one digit. \n",
    "For example:\n",
    "1 January 2017 = 2017 01 01\n",
    "2 + 0 + 1 + 7 + 0 + 1 + 0 + 1 = 12\n",
    "1 + 2 = 3\n"
   ]
  },
  {
   "cell_type": "code",
   "execution_count": 1,
   "id": "41f91f9c-6fe6-4e0a-95f6-448629ed8c91",
   "metadata": {},
   "outputs": [
    {
     "name": "stdin",
     "output_type": "stream",
     "text": [
      "enter date of birth in DDMMYYYY format:  01012017\n"
     ]
    },
    {
     "name": "stdout",
     "output_type": "stream",
     "text": [
      "Digit of Life is:  3\n"
     ]
    }
   ],
   "source": [
    "digit_of_life=input(\"enter date of birth in DDMMYYYY format: \")\n",
    "while len(digit_of_life)!=1:\n",
    "    total=0\n",
    "    for char in digit_of_life:\n",
    "        total+=int(char)\n",
    "        #print(total)\n",
    "    digit_of_life=str(total)\n",
    "print(\"Digit of Life is: \", digit_of_life)\n",
    "\n",
    "    "
   ]
  }
 ],
 "metadata": {
  "kernelspec": {
   "display_name": "Python 3 (ipykernel)",
   "language": "python",
   "name": "python3"
  },
  "language_info": {
   "codemirror_mode": {
    "name": "ipython",
    "version": 3
   },
   "file_extension": ".py",
   "mimetype": "text/x-python",
   "name": "python",
   "nbconvert_exporter": "python",
   "pygments_lexer": "ipython3",
   "version": "3.13.2"
  }
 },
 "nbformat": 4,
 "nbformat_minor": 5
}
